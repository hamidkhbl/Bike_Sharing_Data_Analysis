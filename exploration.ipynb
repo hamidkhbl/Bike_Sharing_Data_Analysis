{
 "cells": [
  {
   "cell_type": "markdown",
   "metadata": {},
   "source": [
    "# (Dataset Exploration Title)\n",
    "## by `Hamid Khodabandehloo`\n",
    "\n",
    "## Preliminary Wrangling\n",
    "\n",
    "> Briefly introduce your dataset here."
   ]
  },
  {
   "cell_type": "code",
   "execution_count": 1,
   "metadata": {},
   "outputs": [],
   "source": [
    "# import all packages and set plots to be embedded inline\n",
    "import numpy as np\n",
    "import pandas as pd\n",
    "import matplotlib.pyplot as plt\n",
    "import seaborn as sb\n",
    "\n",
    "from Wrangling import downloadFile , downloadAllFiles, mergeAllFiles\n",
    "%matplotlib inline"
   ]
  },
  {
   "cell_type": "code",
   "execution_count": 2,
   "metadata": {},
   "outputs": [
    {
     "name": "stdout",
     "output_type": "stream",
     "text": [
      "length of all should be:  2506983\n",
      "All.csv existed\n"
     ]
    }
   ],
   "source": [
    "#Download 12 files for each month of 2019 and unzip them\n",
    "downloadAllFiles()\n",
    "#Merge all 12 files in All.csv file and remove the rest\n",
    "mergeAllFiles()"
   ]
  },
  {
   "cell_type": "code",
   "execution_count": 3,
   "metadata": {},
   "outputs": [
    {
     "name": "stderr",
     "output_type": "stream",
     "text": [
      "C:\\Users\\hamid\\Anaconda3\\lib\\site-packages\\numpy\\lib\\arraysetops.py:569: FutureWarning: elementwise comparison failed; returning scalar instead, but in the future will perform elementwise comparison\n",
      "  mask |= (ar1 == a)\n"
     ]
    }
   ],
   "source": [
    "df = pd.read_csv('All.csv',low_memory=False, index_col=0)"
   ]
  },
  {
   "cell_type": "code",
   "execution_count": 5,
   "metadata": {},
   "outputs": [
    {
     "data": {
      "text/html": [
       "<div>\n",
       "<style scoped>\n",
       "    .dataframe tbody tr th:only-of-type {\n",
       "        vertical-align: middle;\n",
       "    }\n",
       "\n",
       "    .dataframe tbody tr th {\n",
       "        vertical-align: top;\n",
       "    }\n",
       "\n",
       "    .dataframe thead th {\n",
       "        text-align: right;\n",
       "    }\n",
       "</style>\n",
       "<table border=\"1\" class=\"dataframe\">\n",
       "  <thead>\n",
       "    <tr style=\"text-align: right;\">\n",
       "      <th></th>\n",
       "      <th>duration_sec</th>\n",
       "      <th>start_station_id</th>\n",
       "      <th>start_station_latitude</th>\n",
       "      <th>start_station_longitude</th>\n",
       "      <th>end_station_id</th>\n",
       "      <th>end_station_latitude</th>\n",
       "      <th>end_station_longitude</th>\n",
       "      <th>bike_id</th>\n",
       "    </tr>\n",
       "  </thead>\n",
       "  <tbody>\n",
       "    <tr>\n",
       "      <td>count</td>\n",
       "      <td>2.506983e+06</td>\n",
       "      <td>2.426249e+06</td>\n",
       "      <td>2.506983e+06</td>\n",
       "      <td>2.506983e+06</td>\n",
       "      <td>2.424081e+06</td>\n",
       "      <td>2.506983e+06</td>\n",
       "      <td>2.506983e+06</td>\n",
       "      <td>2.506983e+06</td>\n",
       "    </tr>\n",
       "    <tr>\n",
       "      <td>mean</td>\n",
       "      <td>8.076483e+02</td>\n",
       "      <td>1.465047e+02</td>\n",
       "      <td>3.776506e+01</td>\n",
       "      <td>-1.223499e+02</td>\n",
       "      <td>1.427044e+02</td>\n",
       "      <td>3.776422e+01</td>\n",
       "      <td>-1.223459e+02</td>\n",
       "      <td>2.789833e+04</td>\n",
       "    </tr>\n",
       "    <tr>\n",
       "      <td>std</td>\n",
       "      <td>1.974714e+03</td>\n",
       "      <td>1.223171e+02</td>\n",
       "      <td>1.363698e-01</td>\n",
       "      <td>3.089648e-01</td>\n",
       "      <td>1.214296e+02</td>\n",
       "      <td>2.392885e-01</td>\n",
       "      <td>7.080417e-01</td>\n",
       "      <td>1.146067e+05</td>\n",
       "    </tr>\n",
       "    <tr>\n",
       "      <td>min</td>\n",
       "      <td>6.000000e+01</td>\n",
       "      <td>3.000000e+00</td>\n",
       "      <td>0.000000e+00</td>\n",
       "      <td>-1.225143e+02</td>\n",
       "      <td>3.000000e+00</td>\n",
       "      <td>0.000000e+00</td>\n",
       "      <td>-1.225143e+02</td>\n",
       "      <td>4.000000e+00</td>\n",
       "    </tr>\n",
       "    <tr>\n",
       "      <td>25%</td>\n",
       "      <td>3.590000e+02</td>\n",
       "      <td>4.700000e+01</td>\n",
       "      <td>3.776931e+01</td>\n",
       "      <td>-1.224130e+02</td>\n",
       "      <td>4.300000e+01</td>\n",
       "      <td>3.777003e+01</td>\n",
       "      <td>-1.224117e+02</td>\n",
       "      <td>1.952000e+03</td>\n",
       "    </tr>\n",
       "    <tr>\n",
       "      <td>50%</td>\n",
       "      <td>5.710000e+02</td>\n",
       "      <td>1.050000e+02</td>\n",
       "      <td>3.778053e+01</td>\n",
       "      <td>-1.223983e+02</td>\n",
       "      <td>1.010000e+02</td>\n",
       "      <td>3.778076e+01</td>\n",
       "      <td>-1.223981e+02</td>\n",
       "      <td>4.420000e+03</td>\n",
       "    </tr>\n",
       "    <tr>\n",
       "      <td>75%</td>\n",
       "      <td>8.870000e+02</td>\n",
       "      <td>2.430000e+02</td>\n",
       "      <td>3.779539e+01</td>\n",
       "      <td>-1.222914e+02</td>\n",
       "      <td>2.390000e+02</td>\n",
       "      <td>3.779587e+01</td>\n",
       "      <td>-1.222934e+02</td>\n",
       "      <td>9.682000e+03</td>\n",
       "    </tr>\n",
       "    <tr>\n",
       "      <td>max</td>\n",
       "      <td>9.121100e+05</td>\n",
       "      <td>4.980000e+02</td>\n",
       "      <td>4.551000e+01</td>\n",
       "      <td>0.000000e+00</td>\n",
       "      <td>4.980000e+02</td>\n",
       "      <td>4.551000e+01</td>\n",
       "      <td>0.000000e+00</td>\n",
       "      <td>9.999410e+05</td>\n",
       "    </tr>\n",
       "  </tbody>\n",
       "</table>\n",
       "</div>"
      ],
      "text/plain": [
       "       duration_sec  start_station_id  start_station_latitude  \\\n",
       "count  2.506983e+06      2.426249e+06            2.506983e+06   \n",
       "mean   8.076483e+02      1.465047e+02            3.776506e+01   \n",
       "std    1.974714e+03      1.223171e+02            1.363698e-01   \n",
       "min    6.000000e+01      3.000000e+00            0.000000e+00   \n",
       "25%    3.590000e+02      4.700000e+01            3.776931e+01   \n",
       "50%    5.710000e+02      1.050000e+02            3.778053e+01   \n",
       "75%    8.870000e+02      2.430000e+02            3.779539e+01   \n",
       "max    9.121100e+05      4.980000e+02            4.551000e+01   \n",
       "\n",
       "       start_station_longitude  end_station_id  end_station_latitude  \\\n",
       "count             2.506983e+06    2.424081e+06          2.506983e+06   \n",
       "mean             -1.223499e+02    1.427044e+02          3.776422e+01   \n",
       "std               3.089648e-01    1.214296e+02          2.392885e-01   \n",
       "min              -1.225143e+02    3.000000e+00          0.000000e+00   \n",
       "25%              -1.224130e+02    4.300000e+01          3.777003e+01   \n",
       "50%              -1.223983e+02    1.010000e+02          3.778076e+01   \n",
       "75%              -1.222914e+02    2.390000e+02          3.779587e+01   \n",
       "max               0.000000e+00    4.980000e+02          4.551000e+01   \n",
       "\n",
       "       end_station_longitude       bike_id  \n",
       "count           2.506983e+06  2.506983e+06  \n",
       "mean           -1.223459e+02  2.789833e+04  \n",
       "std             7.080417e-01  1.146067e+05  \n",
       "min            -1.225143e+02  4.000000e+00  \n",
       "25%            -1.224117e+02  1.952000e+03  \n",
       "50%            -1.223981e+02  4.420000e+03  \n",
       "75%            -1.222934e+02  9.682000e+03  \n",
       "max             0.000000e+00  9.999410e+05  "
      ]
     },
     "execution_count": 5,
     "metadata": {},
     "output_type": "execute_result"
    }
   ],
   "source": [
    "df.describe()"
   ]
  },
  {
   "cell_type": "markdown",
   "metadata": {},
   "source": [
    "> Load in your dataset and describe its properties through the questions below.\n",
    "Try and motivate your exploration goals through this section."
   ]
  },
  {
   "cell_type": "code",
   "execution_count": null,
   "metadata": {},
   "outputs": [],
   "source": []
  },
  {
   "cell_type": "markdown",
   "metadata": {},
   "source": [
    "### What is the structure of your dataset?\n",
    "\n",
    "> Your answer here!\n",
    "\n",
    "### What is/are the main feature(s) of interest in your dataset?\n",
    "\n",
    "> Your answer here!\n",
    "\n",
    "### What features in the dataset do you think will help support your investigation into your feature(s) of interest?\n",
    "\n",
    "> Your answer here!"
   ]
  },
  {
   "cell_type": "markdown",
   "metadata": {},
   "source": [
    "## Univariate Exploration\n",
    "\n",
    "> In this section, investigate distributions of individual variables. If\n",
    "you see unusual points or outliers, take a deeper look to clean things up\n",
    "and prepare yourself to look at relationships between variables."
   ]
  },
  {
   "cell_type": "code",
   "execution_count": null,
   "metadata": {},
   "outputs": [],
   "source": []
  },
  {
   "cell_type": "markdown",
   "metadata": {},
   "source": [
    "> Make sure that, after every plot or related series of plots, that you\n",
    "include a Markdown cell with comments about what you observed, and what\n",
    "you plan on investigating next."
   ]
  },
  {
   "cell_type": "code",
   "execution_count": null,
   "metadata": {},
   "outputs": [],
   "source": []
  },
  {
   "cell_type": "markdown",
   "metadata": {},
   "source": [
    "### Discuss the distribution(s) of your variable(s) of interest. Were there any unusual points? Did you need to perform any transformations?\n",
    "\n",
    "> Your answer here!\n",
    "\n",
    "### Of the features you investigated, were there any unusual distributions? Did you perform any operations on the data to tidy, adjust, or change the form of the data? If so, why did you do this?\n",
    "\n",
    "> Your answer here!"
   ]
  },
  {
   "cell_type": "markdown",
   "metadata": {},
   "source": [
    "## Bivariate Exploration\n",
    "\n",
    "> In this section, investigate relationships between pairs of variables in your\n",
    "data. Make sure the variables that you cover here have been introduced in some\n",
    "fashion in the previous section (univariate exploration)."
   ]
  },
  {
   "cell_type": "code",
   "execution_count": null,
   "metadata": {},
   "outputs": [],
   "source": []
  },
  {
   "cell_type": "markdown",
   "metadata": {},
   "source": [
    "### Talk about some of the relationships you observed in this part of the investigation. How did the feature(s) of interest vary with other features in the dataset?\n",
    "\n",
    "> Your answer here!\n",
    "\n",
    "### Did you observe any interesting relationships between the other features (not the main feature(s) of interest)?\n",
    "\n",
    "> Your answer here!"
   ]
  },
  {
   "cell_type": "markdown",
   "metadata": {},
   "source": [
    "## Multivariate Exploration\n",
    "\n",
    "> Create plots of three or more variables to investigate your data even\n",
    "further. Make sure that your investigations are justified, and follow from\n",
    "your work in the previous sections."
   ]
  },
  {
   "cell_type": "code",
   "execution_count": null,
   "metadata": {},
   "outputs": [],
   "source": []
  },
  {
   "cell_type": "markdown",
   "metadata": {},
   "source": [
    "### Talk about some of the relationships you observed in this part of the investigation. Were there features that strengthened each other in terms of looking at your feature(s) of interest?\n",
    "\n",
    "> Your answer here!\n",
    "\n",
    "### Were there any interesting or surprising interactions between features?\n",
    "\n",
    "> Your answer here!"
   ]
  },
  {
   "cell_type": "markdown",
   "metadata": {},
   "source": [
    "> At the end of your report, make sure that you export the notebook as an\n",
    "html file from the `File > Download as... > HTML` menu. Make sure you keep\n",
    "track of where the exported file goes, so you can put it in the same folder\n",
    "as this notebook for project submission. Also, make sure you remove all of\n",
    "the quote-formatted guide notes like this one before you finish your report!"
   ]
  },
  {
   "cell_type": "code",
   "execution_count": null,
   "metadata": {},
   "outputs": [],
   "source": []
  }
 ],
 "metadata": {
  "kernelspec": {
   "display_name": "Python 3",
   "language": "python",
   "name": "python3"
  },
  "language_info": {
   "codemirror_mode": {
    "name": "ipython",
    "version": 3
   },
   "file_extension": ".py",
   "mimetype": "text/x-python",
   "name": "python",
   "nbconvert_exporter": "python",
   "pygments_lexer": "ipython3",
   "version": "3.7.4"
  }
 },
 "nbformat": 4,
 "nbformat_minor": 2
}
