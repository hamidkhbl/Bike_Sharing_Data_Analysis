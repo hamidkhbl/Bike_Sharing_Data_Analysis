{
 "cells": [
  {
   "cell_type": "markdown",
   "metadata": {},
   "source": [
    "# Ford GoBike System Data\n",
    "### by `Hamid Khodabandehloo`\n",
    "\n",
    "## Preliminary Wrangling\n",
    "\n",
    "> The data includs informations about station and trip information of a bike sharing application (primarily, it was in 12 `csv` files with 15 columns and about 250k rows overal). In the `Wrangling.py` file I merged the files and fixed five quality and one tidiness issues. The wrangling process resulted in seperating the data into two tables and removing of about four percent of the data. The trip data includes start, end station id, start time, end time, duration and bike id. Stations data includes name, longitude and latitude of the bike-sharing stations."
   ]
  },
  {
   "cell_type": "code",
   "execution_count": 1,
   "metadata": {},
   "outputs": [],
   "source": [
    "# import all packages and set plots to be embedded inline\n",
    "import numpy as np\n",
    "import pandas as pd\n",
    "import matplotlib.pyplot as plt\n",
    "import seaborn as sb\n",
    "# conda install -c conda-forge gmaps\n",
    "import gmaps\n",
    "import networkx as nx\n",
    "from Wrangling import downloadFile , downloadAllFiles, mergeAllFiles, clean\n",
    "%matplotlib inline"
   ]
  },
  {
   "cell_type": "code",
   "execution_count": 3,
   "metadata": {},
   "outputs": [],
   "source": [
    "#Download 12 files for each month of 2019 and unzip them\n",
    "downloadAllFiles()\n",
    "\n",
    "#Merge all 12 files in All.csv file and remove the rest\n",
    "mergeAllFiles()\n",
    "\n",
    "# Clean 4 quality issues and one tidiness issue\n",
    "clean()"
   ]
  },
  {
   "cell_type": "markdown",
   "metadata": {},
   "source": [
    "> Load in your dataset and describe its properties through the questions below.\n",
    "Try and motivate your exploration goals through this section."
   ]
  },
  {
   "cell_type": "code",
   "execution_count": 6,
   "metadata": {},
   "outputs": [
    {
     "data": {
      "text/html": [
       "<div>\n",
       "<style scoped>\n",
       "    .dataframe tbody tr th:only-of-type {\n",
       "        vertical-align: middle;\n",
       "    }\n",
       "\n",
       "    .dataframe tbody tr th {\n",
       "        vertical-align: top;\n",
       "    }\n",
       "\n",
       "    .dataframe thead th {\n",
       "        text-align: right;\n",
       "    }\n",
       "</style>\n",
       "<table border=\"1\" class=\"dataframe\">\n",
       "  <thead>\n",
       "    <tr style=\"text-align: right;\">\n",
       "      <th></th>\n",
       "      <th>station_id</th>\n",
       "      <th>latitude</th>\n",
       "      <th>longitude</th>\n",
       "      <th>name</th>\n",
       "    </tr>\n",
       "  </thead>\n",
       "  <tbody>\n",
       "    <tr>\n",
       "      <td>0</td>\n",
       "      <td>3</td>\n",
       "      <td>37.786375</td>\n",
       "      <td>-122.404904</td>\n",
       "      <td>Powell St BART Station (Market St at 4th St)</td>\n",
       "    </tr>\n",
       "    <tr>\n",
       "      <td>1</td>\n",
       "      <td>4</td>\n",
       "      <td>37.785881</td>\n",
       "      <td>-122.408915</td>\n",
       "      <td>Cyril Magnin St at Ellis St</td>\n",
       "    </tr>\n",
       "    <tr>\n",
       "      <td>2</td>\n",
       "      <td>5</td>\n",
       "      <td>37.783899</td>\n",
       "      <td>-122.408445</td>\n",
       "      <td>Powell St BART Station (Market St at 5th St)</td>\n",
       "    </tr>\n",
       "    <tr>\n",
       "      <td>3</td>\n",
       "      <td>6</td>\n",
       "      <td>37.804770</td>\n",
       "      <td>-122.403234</td>\n",
       "      <td>The Embarcadero at Sansome St</td>\n",
       "    </tr>\n",
       "    <tr>\n",
       "      <td>4</td>\n",
       "      <td>7</td>\n",
       "      <td>37.804562</td>\n",
       "      <td>-122.271738</td>\n",
       "      <td>Frank H Ogawa Plaza</td>\n",
       "    </tr>\n",
       "  </tbody>\n",
       "</table>\n",
       "</div>"
      ],
      "text/plain": [
       "   station_id   latitude   longitude  \\\n",
       "0           3  37.786375 -122.404904   \n",
       "1           4  37.785881 -122.408915   \n",
       "2           5  37.783899 -122.408445   \n",
       "3           6  37.804770 -122.403234   \n",
       "4           7  37.804562 -122.271738   \n",
       "\n",
       "                                           name  \n",
       "0  Powell St BART Station (Market St at 4th St)  \n",
       "1                   Cyril Magnin St at Ellis St  \n",
       "2  Powell St BART Station (Market St at 5th St)  \n",
       "3                 The Embarcadero at Sansome St  \n",
       "4                           Frank H Ogawa Plaza  "
      ]
     },
     "execution_count": 6,
     "metadata": {},
     "output_type": "execute_result"
    }
   ],
   "source": [
    "df_stations = pd.read_csv('stations.csv', index_col=0)\n",
    "df_stations.head()"
   ]
  },
  {
   "cell_type": "code",
   "execution_count": 7,
   "metadata": {},
   "outputs": [
    {
     "name": "stdout",
     "output_type": "stream",
     "text": [
      "<class 'pandas.core.frame.DataFrame'>\n",
      "Int64Index: 456 entries, 0 to 458\n",
      "Data columns (total 4 columns):\n",
      "station_id    456 non-null int64\n",
      "latitude      456 non-null float64\n",
      "longitude     456 non-null float64\n",
      "name          456 non-null object\n",
      "dtypes: float64(2), int64(1), object(1)\n",
      "memory usage: 17.8+ KB\n"
     ]
    }
   ],
   "source": [
    "df_stations.info()"
   ]
  },
  {
   "cell_type": "code",
   "execution_count": 8,
   "metadata": {},
   "outputs": [
    {
     "data": {
      "text/html": [
       "<div>\n",
       "<style scoped>\n",
       "    .dataframe tbody tr th:only-of-type {\n",
       "        vertical-align: middle;\n",
       "    }\n",
       "\n",
       "    .dataframe tbody tr th {\n",
       "        vertical-align: top;\n",
       "    }\n",
       "\n",
       "    .dataframe thead th {\n",
       "        text-align: right;\n",
       "    }\n",
       "</style>\n",
       "<table border=\"1\" class=\"dataframe\">\n",
       "  <thead>\n",
       "    <tr style=\"text-align: right;\">\n",
       "      <th></th>\n",
       "      <th>station_id</th>\n",
       "      <th>latitude</th>\n",
       "      <th>longitude</th>\n",
       "    </tr>\n",
       "  </thead>\n",
       "  <tbody>\n",
       "    <tr>\n",
       "      <td>count</td>\n",
       "      <td>456.000000</td>\n",
       "      <td>456.000000</td>\n",
       "      <td>456.000000</td>\n",
       "    </tr>\n",
       "    <tr>\n",
       "      <td>mean</td>\n",
       "      <td>247.789474</td>\n",
       "      <td>37.721975</td>\n",
       "      <td>-122.056325</td>\n",
       "    </tr>\n",
       "    <tr>\n",
       "      <td>std</td>\n",
       "      <td>142.295327</td>\n",
       "      <td>0.422517</td>\n",
       "      <td>3.175100</td>\n",
       "    </tr>\n",
       "    <tr>\n",
       "      <td>min</td>\n",
       "      <td>3.000000</td>\n",
       "      <td>37.309014</td>\n",
       "      <td>-122.495241</td>\n",
       "    </tr>\n",
       "    <tr>\n",
       "      <td>25%</td>\n",
       "      <td>128.500000</td>\n",
       "      <td>37.740096</td>\n",
       "      <td>-122.411729</td>\n",
       "    </tr>\n",
       "    <tr>\n",
       "      <td>50%</td>\n",
       "      <td>245.500000</td>\n",
       "      <td>37.776382</td>\n",
       "      <td>-122.384696</td>\n",
       "    </tr>\n",
       "    <tr>\n",
       "      <td>75%</td>\n",
       "      <td>376.250000</td>\n",
       "      <td>37.803313</td>\n",
       "      <td>-122.253071</td>\n",
       "    </tr>\n",
       "    <tr>\n",
       "      <td>max</td>\n",
       "      <td>498.000000</td>\n",
       "      <td>45.510000</td>\n",
       "      <td>-73.570000</td>\n",
       "    </tr>\n",
       "  </tbody>\n",
       "</table>\n",
       "</div>"
      ],
      "text/plain": [
       "       station_id    latitude   longitude\n",
       "count  456.000000  456.000000  456.000000\n",
       "mean   247.789474   37.721975 -122.056325\n",
       "std    142.295327    0.422517    3.175100\n",
       "min      3.000000   37.309014 -122.495241\n",
       "25%    128.500000   37.740096 -122.411729\n",
       "50%    245.500000   37.776382 -122.384696\n",
       "75%    376.250000   37.803313 -122.253071\n",
       "max    498.000000   45.510000  -73.570000"
      ]
     },
     "execution_count": 8,
     "metadata": {},
     "output_type": "execute_result"
    }
   ],
   "source": [
    "df_stations.describe()"
   ]
  },
  {
   "cell_type": "code",
   "execution_count": 9,
   "metadata": {},
   "outputs": [
    {
     "data": {
      "text/plain": [
       "(456, 4)"
      ]
     },
     "execution_count": 9,
     "metadata": {},
     "output_type": "execute_result"
    }
   ],
   "source": [
    "df_stations.shape"
   ]
  },
  {
   "cell_type": "code",
   "execution_count": 10,
   "metadata": {},
   "outputs": [
    {
     "name": "stderr",
     "output_type": "stream",
     "text": [
      "C:\\Users\\hamid\\Anaconda3\\lib\\site-packages\\numpy\\lib\\arraysetops.py:569: FutureWarning: elementwise comparison failed; returning scalar instead, but in the future will perform elementwise comparison\n",
      "  mask |= (ar1 == a)\n"
     ]
    },
    {
     "data": {
      "text/html": [
       "<div>\n",
       "<style scoped>\n",
       "    .dataframe tbody tr th:only-of-type {\n",
       "        vertical-align: middle;\n",
       "    }\n",
       "\n",
       "    .dataframe tbody tr th {\n",
       "        vertical-align: top;\n",
       "    }\n",
       "\n",
       "    .dataframe thead th {\n",
       "        text-align: right;\n",
       "    }\n",
       "</style>\n",
       "<table border=\"1\" class=\"dataframe\">\n",
       "  <thead>\n",
       "    <tr style=\"text-align: right;\">\n",
       "      <th></th>\n",
       "      <th>duration_sec</th>\n",
       "      <th>start_time</th>\n",
       "      <th>end_time</th>\n",
       "      <th>start_station_id</th>\n",
       "      <th>end_station_id</th>\n",
       "      <th>bike_id</th>\n",
       "      <th>user_type</th>\n",
       "      <th>bike_share_for_all_trip</th>\n",
       "    </tr>\n",
       "  </thead>\n",
       "  <tbody>\n",
       "    <tr>\n",
       "      <td>0</td>\n",
       "      <td>80825</td>\n",
       "      <td>2019-01-31 17:57:44.613</td>\n",
       "      <td>2019-02-01 16:24:49.864</td>\n",
       "      <td>229</td>\n",
       "      <td>196</td>\n",
       "      <td>4861</td>\n",
       "      <td>Subscriber</td>\n",
       "      <td>No</td>\n",
       "    </tr>\n",
       "    <tr>\n",
       "      <td>1</td>\n",
       "      <td>65900</td>\n",
       "      <td>2019-01-31 20:58:33.886</td>\n",
       "      <td>2019-02-01 15:16:54.173</td>\n",
       "      <td>4</td>\n",
       "      <td>134</td>\n",
       "      <td>5506</td>\n",
       "      <td>Subscriber</td>\n",
       "      <td>No</td>\n",
       "    </tr>\n",
       "    <tr>\n",
       "      <td>2</td>\n",
       "      <td>62633</td>\n",
       "      <td>2019-01-31 18:06:52.924</td>\n",
       "      <td>2019-02-01 11:30:46.530</td>\n",
       "      <td>245</td>\n",
       "      <td>157</td>\n",
       "      <td>2717</td>\n",
       "      <td>Customer</td>\n",
       "      <td>No</td>\n",
       "    </tr>\n",
       "    <tr>\n",
       "      <td>3</td>\n",
       "      <td>44680</td>\n",
       "      <td>2019-01-31 19:46:09.719</td>\n",
       "      <td>2019-02-01 08:10:50.318</td>\n",
       "      <td>85</td>\n",
       "      <td>53</td>\n",
       "      <td>4557</td>\n",
       "      <td>Customer</td>\n",
       "      <td>No</td>\n",
       "    </tr>\n",
       "    <tr>\n",
       "      <td>4</td>\n",
       "      <td>60709</td>\n",
       "      <td>2019-01-31 14:19:01.541</td>\n",
       "      <td>2019-02-01 07:10:51.065</td>\n",
       "      <td>16</td>\n",
       "      <td>28</td>\n",
       "      <td>2100</td>\n",
       "      <td>Customer</td>\n",
       "      <td>No</td>\n",
       "    </tr>\n",
       "  </tbody>\n",
       "</table>\n",
       "</div>"
      ],
      "text/plain": [
       "   duration_sec               start_time                 end_time  \\\n",
       "0         80825  2019-01-31 17:57:44.613  2019-02-01 16:24:49.864   \n",
       "1         65900  2019-01-31 20:58:33.886  2019-02-01 15:16:54.173   \n",
       "2         62633  2019-01-31 18:06:52.924  2019-02-01 11:30:46.530   \n",
       "3         44680  2019-01-31 19:46:09.719  2019-02-01 08:10:50.318   \n",
       "4         60709  2019-01-31 14:19:01.541  2019-02-01 07:10:51.065   \n",
       "\n",
       "   start_station_id  end_station_id  bike_id   user_type  \\\n",
       "0               229             196     4861  Subscriber   \n",
       "1                 4             134     5506  Subscriber   \n",
       "2               245             157     2717    Customer   \n",
       "3                85              53     4557    Customer   \n",
       "4                16              28     2100    Customer   \n",
       "\n",
       "  bike_share_for_all_trip  \n",
       "0                      No  \n",
       "1                      No  \n",
       "2                      No  \n",
       "3                      No  \n",
       "4                      No  "
      ]
     },
     "execution_count": 10,
     "metadata": {},
     "output_type": "execute_result"
    }
   ],
   "source": [
    "df_trips = pd.read_csv('trips.csv', index_col=0, low_memory=False)\n",
    "df_trips.head()"
   ]
  },
  {
   "cell_type": "code",
   "execution_count": 11,
   "metadata": {},
   "outputs": [
    {
     "name": "stdout",
     "output_type": "stream",
     "text": [
      "<class 'pandas.core.frame.DataFrame'>\n",
      "Int64Index: 2407190 entries, 0 to 2506660\n",
      "Data columns (total 8 columns):\n",
      "duration_sec               int64\n",
      "start_time                 object\n",
      "end_time                   object\n",
      "start_station_id           int64\n",
      "end_station_id             int64\n",
      "bike_id                    int64\n",
      "user_type                  object\n",
      "bike_share_for_all_trip    object\n",
      "dtypes: int64(4), object(4)\n",
      "memory usage: 165.3+ MB\n"
     ]
    }
   ],
   "source": [
    "df_trips.info()"
   ]
  },
  {
   "cell_type": "code",
   "execution_count": 12,
   "metadata": {},
   "outputs": [
    {
     "data": {
      "text/html": [
       "<div>\n",
       "<style scoped>\n",
       "    .dataframe tbody tr th:only-of-type {\n",
       "        vertical-align: middle;\n",
       "    }\n",
       "\n",
       "    .dataframe tbody tr th {\n",
       "        vertical-align: top;\n",
       "    }\n",
       "\n",
       "    .dataframe thead th {\n",
       "        text-align: right;\n",
       "    }\n",
       "</style>\n",
       "<table border=\"1\" class=\"dataframe\">\n",
       "  <thead>\n",
       "    <tr style=\"text-align: right;\">\n",
       "      <th></th>\n",
       "      <th>duration_sec</th>\n",
       "      <th>start_station_id</th>\n",
       "      <th>end_station_id</th>\n",
       "      <th>bike_id</th>\n",
       "    </tr>\n",
       "  </thead>\n",
       "  <tbody>\n",
       "    <tr>\n",
       "      <td>count</td>\n",
       "      <td>2.407190e+06</td>\n",
       "      <td>2.407190e+06</td>\n",
       "      <td>2.407190e+06</td>\n",
       "      <td>2.407190e+06</td>\n",
       "    </tr>\n",
       "    <tr>\n",
       "      <td>mean</td>\n",
       "      <td>8.040941e+02</td>\n",
       "      <td>1.462486e+02</td>\n",
       "      <td>1.424772e+02</td>\n",
       "      <td>9.290447e+03</td>\n",
       "    </tr>\n",
       "    <tr>\n",
       "      <td>std</td>\n",
       "      <td>1.899553e+03</td>\n",
       "      <td>1.221957e+02</td>\n",
       "      <td>1.213281e+02</td>\n",
       "      <td>5.046314e+04</td>\n",
       "    </tr>\n",
       "    <tr>\n",
       "      <td>min</td>\n",
       "      <td>6.000000e+01</td>\n",
       "      <td>3.000000e+00</td>\n",
       "      <td>3.000000e+00</td>\n",
       "      <td>4.000000e+00</td>\n",
       "    </tr>\n",
       "    <tr>\n",
       "      <td>25%</td>\n",
       "      <td>3.580000e+02</td>\n",
       "      <td>4.700000e+01</td>\n",
       "      <td>4.200000e+01</td>\n",
       "      <td>1.877000e+03</td>\n",
       "    </tr>\n",
       "    <tr>\n",
       "      <td>50%</td>\n",
       "      <td>5.690000e+02</td>\n",
       "      <td>1.040000e+02</td>\n",
       "      <td>1.010000e+02</td>\n",
       "      <td>3.727000e+03</td>\n",
       "    </tr>\n",
       "    <tr>\n",
       "      <td>75%</td>\n",
       "      <td>8.830000e+02</td>\n",
       "      <td>2.420000e+02</td>\n",
       "      <td>2.390000e+02</td>\n",
       "      <td>7.170000e+03</td>\n",
       "    </tr>\n",
       "    <tr>\n",
       "      <td>max</td>\n",
       "      <td>8.623000e+04</td>\n",
       "      <td>4.980000e+02</td>\n",
       "      <td>4.980000e+02</td>\n",
       "      <td>9.984300e+05</td>\n",
       "    </tr>\n",
       "  </tbody>\n",
       "</table>\n",
       "</div>"
      ],
      "text/plain": [
       "       duration_sec  start_station_id  end_station_id       bike_id\n",
       "count  2.407190e+06      2.407190e+06    2.407190e+06  2.407190e+06\n",
       "mean   8.040941e+02      1.462486e+02    1.424772e+02  9.290447e+03\n",
       "std    1.899553e+03      1.221957e+02    1.213281e+02  5.046314e+04\n",
       "min    6.000000e+01      3.000000e+00    3.000000e+00  4.000000e+00\n",
       "25%    3.580000e+02      4.700000e+01    4.200000e+01  1.877000e+03\n",
       "50%    5.690000e+02      1.040000e+02    1.010000e+02  3.727000e+03\n",
       "75%    8.830000e+02      2.420000e+02    2.390000e+02  7.170000e+03\n",
       "max    8.623000e+04      4.980000e+02    4.980000e+02  9.984300e+05"
      ]
     },
     "execution_count": 12,
     "metadata": {},
     "output_type": "execute_result"
    }
   ],
   "source": [
    "df_trips.describe()"
   ]
  },
  {
   "cell_type": "code",
   "execution_count": 13,
   "metadata": {},
   "outputs": [
    {
     "data": {
      "text/plain": [
       "(2407190, 8)"
      ]
     },
     "execution_count": 13,
     "metadata": {},
     "output_type": "execute_result"
    }
   ],
   "source": [
    "df_trips.shape"
   ]
  },
  {
   "cell_type": "markdown",
   "metadata": {},
   "source": [
    "### What is the structure of your dataset?\n",
    "\n",
    "> Information about the stations are stored in `df_stations` which includes folowing columns:\n",
    "><br> **station_id:** Id of the station.\n",
    "><br> **latitude:** Latitude GPS coordinate.\n",
    "><br> **longitude:** Longitude GPS coordinate.\n",
    "><br> **name:** Name of the station.\n",
    "><br> This table has **4 columns** and **456 rows**.\n",
    "><br>\n",
    "><br> Information about trips are stored in df_trips which includes folowing columns:\n",
    "><br> **duration_sec:** Duration of the trip in seconds.\n",
    "><br> **start_time:** Start time of the trip.\n",
    "><br> **end_time:** End time of the trip.\n",
    "><br> **start_station_id:** The station that trip started from.\n",
    "><br> **end_station_id:** The station that trip ended in.\n",
    "><br> **bike_id:** Id of the bike used for the trip.\n",
    "><br> **user_type:** Type of the user (subscriber or customer – “Subscriber” = Member or “Customer” = Casual)                \n",
    "> **bike_share_for_all_trip:** If the bike is used for all trip.\n",
    "><br> This table has **8 columns** and **2407190 rows**.\n",
    "\n",
    "> These two table can be joined based on `station_id`, `start_station_id` and `end_station_id` columns.\n",
    "\n",
    "\n",
    "\n",
    "### What is/are the main feature(s) of interest in your dataset?\n",
    "\n",
    "> It is important to see how people are using bike sharing system. How bike usage change during a day, week, month and year. Which stations are bussier and when. How long people tend to use a bike and how far they go with the bike. How subscibers and casual customers differ in bike usage.\n",
    "\n",
    "### What features in the dataset do you think will help support your investigation into your feature(s) of interest?\n",
    "\n",
    "> Start and end time and duration of the trip. GPS cordinates (I will need to add UTM cordinates to calculate trip distance). User type and bike id. I will need to add day of the week to the dataset too."
   ]
  },
  {
   "cell_type": "code",
   "execution_count": 14,
   "metadata": {},
   "outputs": [],
   "source": [
    "# Add week day of start and end time of the trip to df_trips\n",
    "df_trips['start_time'] = pd.to_datetime(df_trips['start_time'])\n",
    "df_trips['end_time'] = pd.to_datetime(df_trips['end_time'])\n",
    "    \n",
    "df_trips['start_weekday'] = df_trips['start_time'].dt.dayofweek\n",
    "df_trips['end_weekday'] = df_trips['end_time'].dt.dayofweek\n",
    "\n",
    "\n",
    "# Add city to df_stations\n",
    "df_stations['city'] = ''\n",
    "df_stations.loc[(df_stations['latitude'] > 37.691495) & (df_stations['latitude'] < 37.825785) & (df_stations['longitude'] < -122.376299) &  (df_stations['longitude'] > -122.533738),['city']] = 'San Francisco'\n",
    "df_stations.loc[(df_stations['latitude'] > 37.711895) & (df_stations['latitude'] < 37.899914) & (df_stations['longitude'] < -22.141754) &  (df_stations['longitude'] > -122.360498),['city']] = 'Oakland'\n",
    "df_stations.loc[df_stations['city']==\"\",['city']] = 'San Jose'\n",
    "\n",
    "# We are only intrested on trips shorter than 2 hours\n",
    "df_trips = df_trips.query('duration_sec <= 2*3600')\n",
    "\n",
    "# Join stations and trip data \n",
    "df = df_stations.merge(df_trips, how='inner',left_on='station_id', right_on='start_station_id' ).merge(df_stations, how='inner',left_on='end_station_id', right_on='station_id')\n",
    "\n",
    "# Trips between cities\n",
    "df_outOfCityTrips = df[df['city_x'] != df['city_y']]"
   ]
  },
  {
   "cell_type": "code",
   "execution_count": 15,
   "metadata": {},
   "outputs": [
    {
     "data": {
      "text/html": [
       "<div>\n",
       "<style scoped>\n",
       "    .dataframe tbody tr th:only-of-type {\n",
       "        vertical-align: middle;\n",
       "    }\n",
       "\n",
       "    .dataframe tbody tr th {\n",
       "        vertical-align: top;\n",
       "    }\n",
       "\n",
       "    .dataframe thead th {\n",
       "        text-align: right;\n",
       "    }\n",
       "</style>\n",
       "<table border=\"1\" class=\"dataframe\">\n",
       "  <thead>\n",
       "    <tr style=\"text-align: right;\">\n",
       "      <th></th>\n",
       "      <th>duration_sec</th>\n",
       "      <th>start_time</th>\n",
       "      <th>end_time</th>\n",
       "      <th>start_station_id</th>\n",
       "      <th>end_station_id</th>\n",
       "      <th>bike_id</th>\n",
       "      <th>user_type</th>\n",
       "      <th>bike_share_for_all_trip</th>\n",
       "      <th>start_weekday</th>\n",
       "      <th>end_weekday</th>\n",
       "    </tr>\n",
       "  </thead>\n",
       "  <tbody>\n",
       "    <tr>\n",
       "      <td>0</td>\n",
       "      <td>80825</td>\n",
       "      <td>2019-01-31 17:57:44.613</td>\n",
       "      <td>2019-02-01 16:24:49.864</td>\n",
       "      <td>229</td>\n",
       "      <td>196</td>\n",
       "      <td>4861</td>\n",
       "      <td>Subscriber</td>\n",
       "      <td>No</td>\n",
       "      <td>3</td>\n",
       "      <td>4</td>\n",
       "    </tr>\n",
       "    <tr>\n",
       "      <td>1</td>\n",
       "      <td>65900</td>\n",
       "      <td>2019-01-31 20:58:33.886</td>\n",
       "      <td>2019-02-01 15:16:54.173</td>\n",
       "      <td>4</td>\n",
       "      <td>134</td>\n",
       "      <td>5506</td>\n",
       "      <td>Subscriber</td>\n",
       "      <td>No</td>\n",
       "      <td>3</td>\n",
       "      <td>4</td>\n",
       "    </tr>\n",
       "    <tr>\n",
       "      <td>2</td>\n",
       "      <td>62633</td>\n",
       "      <td>2019-01-31 18:06:52.924</td>\n",
       "      <td>2019-02-01 11:30:46.530</td>\n",
       "      <td>245</td>\n",
       "      <td>157</td>\n",
       "      <td>2717</td>\n",
       "      <td>Customer</td>\n",
       "      <td>No</td>\n",
       "      <td>3</td>\n",
       "      <td>4</td>\n",
       "    </tr>\n",
       "    <tr>\n",
       "      <td>3</td>\n",
       "      <td>44680</td>\n",
       "      <td>2019-01-31 19:46:09.719</td>\n",
       "      <td>2019-02-01 08:10:50.318</td>\n",
       "      <td>85</td>\n",
       "      <td>53</td>\n",
       "      <td>4557</td>\n",
       "      <td>Customer</td>\n",
       "      <td>No</td>\n",
       "      <td>3</td>\n",
       "      <td>4</td>\n",
       "    </tr>\n",
       "    <tr>\n",
       "      <td>4</td>\n",
       "      <td>60709</td>\n",
       "      <td>2019-01-31 14:19:01.541</td>\n",
       "      <td>2019-02-01 07:10:51.065</td>\n",
       "      <td>16</td>\n",
       "      <td>28</td>\n",
       "      <td>2100</td>\n",
       "      <td>Customer</td>\n",
       "      <td>No</td>\n",
       "      <td>3</td>\n",
       "      <td>4</td>\n",
       "    </tr>\n",
       "  </tbody>\n",
       "</table>\n",
       "</div>"
      ],
      "text/plain": [
       "   duration_sec              start_time                end_time  \\\n",
       "0         80825 2019-01-31 17:57:44.613 2019-02-01 16:24:49.864   \n",
       "1         65900 2019-01-31 20:58:33.886 2019-02-01 15:16:54.173   \n",
       "2         62633 2019-01-31 18:06:52.924 2019-02-01 11:30:46.530   \n",
       "3         44680 2019-01-31 19:46:09.719 2019-02-01 08:10:50.318   \n",
       "4         60709 2019-01-31 14:19:01.541 2019-02-01 07:10:51.065   \n",
       "\n",
       "   start_station_id  end_station_id  bike_id   user_type  \\\n",
       "0               229             196     4861  Subscriber   \n",
       "1                 4             134     5506  Subscriber   \n",
       "2               245             157     2717    Customer   \n",
       "3                85              53     4557    Customer   \n",
       "4                16              28     2100    Customer   \n",
       "\n",
       "  bike_share_for_all_trip  start_weekday  end_weekday  \n",
       "0                      No              3            4  \n",
       "1                      No              3            4  \n",
       "2                      No              3            4  \n",
       "3                      No              3            4  \n",
       "4                      No              3            4  "
      ]
     },
     "execution_count": 15,
     "metadata": {},
     "output_type": "execute_result"
    }
   ],
   "source": [
    "df_trips.head()"
   ]
  },
  {
   "cell_type": "markdown",
   "metadata": {},
   "source": [
    "## Univariate Exploration\n",
    "\n",
    "> In this section, investigate distributions of individual variables. If\n",
    "you see unusual points or outliers, take a deeper look to clean things up\n",
    "and prepare yourself to look at relationships between variables."
   ]
  },
  {
   "cell_type": "markdown",
   "metadata": {},
   "source": [
    "### Day of the week\n",
    "#### Number of trips:\n",
    "> Number of trips are considerably higher during the week comparing to the weekened. It can be an indication that people use bikes to commute to work.\n",
    "\n",
    "#### Mean duration of trips:\n",
    "> Mena duration of trips are about 3 minutes more at weekends."
   ]
  },
  {
   "cell_type": "code",
   "execution_count": 259,
   "metadata": {},
   "outputs": [
    {
     "data": {
      "text/plain": [
       "Text(0.5, 0, 'Week days')"
      ]
     },
     "execution_count": 259,
     "metadata": {},
     "output_type": "execute_result"
    },
    {
     "data": {
      "image/png": "[encoded data removed]",
      "text/plain": [
       "<Figure size 1296x576 with 2 Axes>"
      ]
     },
     "metadata": {
      "needs_background": "light"
     },
     "output_type": "display_data"
    }
   ],
   "source": [
    "# Trip frequency during weekday and weekends\n",
    "\n",
    "plt.figure(figsize=[18,8])\n",
    "\n",
    "plt.subplot(1,2,1)\n",
    "base_color = sb.color_palette()[0]\n",
    "sb.countplot(data=df_trips, x = 'start_weekday', color=base_color);\n",
    "plt.xlabel('Week day(Start of the trips)',fontsize=12)\n",
    "plt.ylabel('Trip count',fontsize=12)\n",
    "plt.title('Frequency of trips in week days',fontsize=14)\n",
    "plt.yticks(np.arange(0, 450000, 50000), ['0', '50K', '100K','150K','200K','250K','300K','350K','400K']);\n",
    "n_points=df_trips.shape[0]\n",
    "\n",
    "locs, labels = plt.xticks()\n",
    "for loc, label in zip(locs, labels):\n",
    "    count = len(df_trips[df_trips['start_weekday'] == int(label.get_text())])\n",
    "    pct_string = '{:0.1f}K'.format(count/1000)\n",
    "    plt.text(loc, count-15000, pct_string, ha='center', color='w' )\n",
    "plt.xticks([0,1,2,3,4,5,6],['Monday', 'Tuesday', 'Wedensday', 'Thursday', 'Friday', 'Saturday', 'Sunday']);\n",
    "\n",
    "\n",
    "\n",
    "plt.subplot(1,2,2);\n",
    "data = df_trips.groupby('start_weekday').mean()['duration_sec'].reset_index()\n",
    "plt.bar(data=data, x = 'start_weekday', height='duration_sec')\n",
    "plt.xticks(np.arange(0,7,1), ['Monday', 'Tuesday', 'Wednesday', 'Thursday', 'Friday', 'Saturday', 'Sunday'])\n",
    "plt.yticks(np.arange(0,901,60),np.arange(0,16,1))\n",
    "plt.title('Mean of trip duration for each week day', fontsize = 14)\n",
    "plt.ylabel('Mean trip duratoin (mins)', fontsize = 12)\n",
    "plt.xlabel('Week days', fontsize = 12)"
   ]
  },
  {
   "cell_type": "markdown",
   "metadata": {},
   "source": [
    "### City Analysis:\n",
    "#### Number of stations:\n",
    "> There are more bike sharing stations in San Francisco comparing to Oakland and San Jose. San Francisco has 230 stations, Oakland 132 and San Jose 94. However, San Jose is the most populated city among these three cities but number of bike stations are less than other cities. To understand number of stations based on population see the following table:\n",
    "\n",
    "| City | Population | Bike statation per 100,000 people |\n",
    "| --- | --- | --- |\n",
    "| San Jose | 1,035,000 | 9.37 |\n",
    "| San Francisco| 884,000 | 26 |\n",
    "| Oakland | 425,000 | 31 |\n",
    "\n",
    "\n",
    ">Oakland has the most bike stations considering the population.\n",
    "\n",
    "\n",
    "#### Mean of trip duration:\n",
    ">Trips are generally longer in San Francisco. Trips in Oakland and San Jose takes about 10 minutes. This number in San Francisco is about 12 minutes."
   ]
  },
  {
   "cell_type": "code",
   "execution_count": 248,
   "metadata": {},
   "outputs": [
    {
     "data": {
      "image/png": "[encoded data removed]",
      "text/plain": [
       "<Figure size 1296x576 with 2 Axes>"
      ]
     },
     "metadata": {
      "needs_background": "light"
     },
     "output_type": "display_data"
    }
   ],
   "source": [
    "# City analysis\n",
    "plt.figure(figsize=[18,8])\n",
    "\n",
    "plt.subplot(1,2,1)\n",
    "base_color = sb.color_palette()[9]\n",
    "sb.countplot(data=df_stations, x = 'city', color=base_color);\n",
    "plt.title('Number of stations in each city', fontsize = 14);\n",
    "plt.ylabel('Number of stations',fontsize = 12);\n",
    "plt.xlabel('City',fontsize = 12);\n",
    "\n",
    "locs, labels = plt.xticks()\n",
    "for loc, label in zip(locs, labels):\n",
    "    count = len(df_stations[df_stations['city'] == label.get_text()])\n",
    "    plt.text(loc, count-10, count, ha='center', color='w' )\n",
    "\n",
    "    \n",
    "plt.subplot(1,2,2)\n",
    "base_color = sb.color_palette()[9]\n",
    "data = df.groupby('city_x').mean()['duration_sec'].reset_index()\n",
    "plt.bar(data=data, x = 'city_x',height='duration_sec', color=base_color);\n",
    "plt.title('Mean trip duration for each city', fontsize = 14)\n",
    "plt.ylabel('Mean Trip duration (mins)',fontsize = 12);\n",
    "plt.xlabel('City',fontsize = 12);\n",
    "plt.yticks(np.arange(0,721,60), np.arange(0,13,1));\n"
   ]
  },
  {
   "cell_type": "markdown",
   "metadata": {},
   "source": [
    "### Hour of the trip:\n",
    "#### Number of trips:\n",
    "> Between 7 to 9 am and 16 to 18 pm are pick time for bike usage. These hours are the times when usually people commute. This is another indication that people are using bikes for commuting between home and work. \n",
    "#### Mean of trip durations:\n",
    "> Trip duration mean is almost the same in different hours of a day."
   ]
  },
  {
   "cell_type": "code",
   "execution_count": 260,
   "metadata": {},
   "outputs": [
    {
     "data": {
      "image/png": "[encoded data removed]",
      "text/plain": [
       "<Figure size 1080x1080 with 2 Axes>"
      ]
     },
     "metadata": {
      "needs_background": "light"
     },
     "output_type": "display_data"
    }
   ],
   "source": [
    "\n",
    "plt.figure(figsize=[15,15])\n",
    "plt.subplot(2,1,2);\n",
    "data = df_trips.groupby(df['start_time'].dt.hour).mean()['duration_sec'].reset_index()\n",
    "plt.bar(data=data, x = 'start_time', height='duration_sec')\n",
    "plt.xticks(np.arange(0,24,1));\n",
    "plt.yticks(np.arange(0,750,60), np.arange(0,13,1));\n",
    "plt.title('Mean trip duration for each hour', fontsize = 14)\n",
    "plt.xlabel('Hours', fontsize=12)\n",
    "plt.xlabel('Mean trip duration (mins)', fontsize=12)\n",
    "\n",
    "plt.subplot(2,1,1)\n",
    "base_color = sb.color_palette()[9]\n",
    "data = df_trips['start_time'].dt.hour.reset_index()\n",
    "sb.countplot(data=data, x='start_time', color=base_color);\n",
    "plt.title('Trip frequency in every hour of the day', fontsize = 14)\n",
    "plt.xlabel('Hour', fontsize=12);\n",
    "plt.ylabel('Trip count', fontsize=12);\n",
    "locs, lables = plt.xticks()\n",
    "for loc,label in zip(locs, lables):\n",
    "    count = len(data[data['start_time'] == int(label.get_text())])\n",
    "    plt.text(loc, count+1500,str(round(count/1000,1)) +'K', ha='center', color='black')\n",
    "plt.yticks(np.arange(0,300001, 50000), ['0','50K','100K','150K','200K','250K','300K']);\n"
   ]
  },
  {
   "cell_type": "markdown",
   "metadata": {},
   "source": [
    "### Month Analysis:"
   ]
  },
  {
   "cell_type": "code",
   "execution_count": 256,
   "metadata": {},
   "outputs": [
    {
     "data": {
      "image/png": "[encoded data removed]",
      "text/plain": [
       "<Figure size 1080x2160 with 1 Axes>"
      ]
     },
     "metadata": {
      "needs_background": "light"
     },
     "output_type": "display_data"
    }
   ],
   "source": [
    "plt.figure(figsize = [15,30]);\n",
    "\n",
    "plt.subplot(4,1,1)\n",
    "base_color = sb.color_palette()[0]\n",
    "data = df_trips['start_time'].dt.month.reset_index()\n",
    "plt.title('Trip frequency in every month', fontsize = 14)\n",
    "sb.countplot(data=data, x='start_time', color=base_color);\n",
    "locs, lables = plt.xticks()\n",
    "for loc,label in zip(locs, lables):\n",
    "    count = len(data[data['start_time'] == int(label.get_text())])\n",
    "    plt.text(loc, count-7500,str(round(count/1000,1)) +'K', ha='center', color='w' )   \n",
    "plt.xticks(np.arange(0,13,1),['Jan','Feb','March','Apr','May','Jun','July','Aug','Sep','Oct','Nov', 'Dec']);\n",
    "plt.yticks(np.arange(0,300000, 50000), ['0','50K','100K','150K','200K','250K']);\n",
    "plt.xlabel('Month', fontsize=12);\n",
    "plt.ylabel('Trip count', fontsize=12);"
   ]
  },
  {
   "cell_type": "markdown",
   "metadata": {},
   "source": [
    "### Trip duration analysis:\n",
    "> Folowing histograms show"
   ]
  },
  {
   "cell_type": "code",
   "execution_count": 261,
   "metadata": {},
   "outputs": [
    {
     "data": {
      "image/png": "[encoded data removed]",
      "text/plain": [
       "<Figure size 1080x432 with 1 Axes>"
      ]
     },
     "metadata": {
      "needs_background": "light"
     },
     "output_type": "display_data"
    },
    {
     "data": {
      "image/png": "[encoded data removed]",
      "text/plain": [
       "<Figure size 1080x432 with 2 Axes>"
      ]
     },
     "metadata": {
      "needs_background": "light"
     },
     "output_type": "display_data"
    }
   ],
   "source": [
    "# Trip duration histogram\n",
    "plt.figure(figsize=[15,6])\n",
    "bins= np.arange(0, 2*3600+1, 300)\n",
    "plt.hist(data=df_trips, x='duration_sec', bins=bins);\n",
    "plt.xticks(np.arange(0, 2*3600+1, 300),np.arange(0, 121, 5));\n",
    "plt.yticks(np.arange(0, 900001, 200000),['0','200K','400K','600K','800K']);\n",
    "\n",
    "# Trip duration histogram for less than an hour and between one and two hours\n",
    "plt.figure(figsize=[15,6])\n",
    "\n",
    "plt.subplot(1,2,1)\n",
    "data = df_trips.query('duration_sec <= 3600')\n",
    "bins= np.arange(0, 3600+1, 300)\n",
    "plt.hist(data=data, x='duration_sec', bins=bins);\n",
    "plt.xticks(np.arange(0, 3601, 300),np.arange(0, 61, 5));\n",
    "plt.yticks(np.arange(0, 900001, 200000),['0','200K','400K','600K','800K'])\n",
    "\n",
    "plt.subplot(1,2,2)\n",
    "data = df_trips.query('duration_sec > 3600')\n",
    "bins= np.arange(3600, 2*3600+1, 300)\n",
    "plt.hist(data=data, x='duration_sec', bins=bins);\n",
    "plt.xticks(np.arange(3600, 2*3600+1, 300),np.arange(60, 121, 5));"
   ]
  },
  {
   "cell_type": "code",
   "execution_count": 20,
   "metadata": {},
   "outputs": [
    {
     "data": {
      "image/png": "[encoded data removed]",
      "text/plain": [
       "<Figure size 432x288 with 1 Axes>"
      ]
     },
     "metadata": {},
     "output_type": "display_data"
    }
   ],
   "source": [
    "data = df_trips.user_type.value_counts()\n",
    "plt.pie(data, labels = data.index, startangle=90, counterclock=False, autopct='%.2f');\n",
    "plt.axis('square');"
   ]
  },
  {
   "cell_type": "markdown",
   "metadata": {},
   "source": [
    "### Discuss the distribution(s) of your variable(s) of interest. Were there any unusual points? Did you need to perform any transformations?\n",
    "\n",
    "> Your answer here!\n",
    "\n",
    "### Of the features you investigated, were there any unusual distributions? Did you perform any operations on the data to tidy, adjust, or change the form of the data? If so, why did you do this?\n",
    "\n",
    "> Your answer here!"
   ]
  },
  {
   "cell_type": "markdown",
   "metadata": {},
   "source": [
    "## Bivariate Exploration\n",
    "\n",
    "> In this section, investigate relationships between pairs of variables in your\n",
    "data. Make sure the variables that you cover here have been introduced in some\n",
    "fashion in the previous section (univariate exploration)."
   ]
  },
  {
   "cell_type": "code",
   "execution_count": 34,
   "metadata": {},
   "outputs": [],
   "source": [
    "with open('auth', 'r') as file:\n",
    "    key = file.read().replace('\\n', '')\n",
    "gmaps.configure(api_key=key)"
   ]
  },
  {
   "cell_type": "code",
   "execution_count": 279,
   "metadata": {},
   "outputs": [
    {
     "data": {
      "application/vnd.jupyter.widget-view+json": {
       "model_id": "03e791d606194439af12d29d8c9aaa18",
       "version_major": 2,
       "version_minor": 0
      },
      "text/plain": [
       "Figure(layout=FigureLayout(border='1px solid black', height='700px', padding='3px', width='900px'))"
      ]
     },
     "metadata": {},
     "output_type": "display_data"
    }
   ],
   "source": [
    "#markers = gmaps.marker_layer(df_stations[['start_station_latitude','start_station_longitude']])\n",
    "markers = gmaps.symbol_layer(df_stations[['latitude','longitude']], fill_color='blue', stroke_color='blue',scale=1,fill_opacity=0.2 )\n",
    "fig = gmaps.figure(center=(37.60158, -122.233234), zoom_level=10, layout={'width': '900px','height': '700px','padding': '3px','border': '1px solid black'})\n",
    "fig.add_layer(markers)\n",
    "fig"
   ]
  },
  {
   "cell_type": "code",
   "execution_count": 36,
   "metadata": {},
   "outputs": [
    {
     "data": {
      "application/vnd.jupyter.widget-view+json": {
       "model_id": "0506874dc525437991dfca1be0011fad",
       "version_major": 2,
       "version_minor": 0
      },
      "text/plain": [
       "Figure(layout=FigureLayout(border='1px solid black', height='700px', padding='3px', width='900px'))"
      ]
     },
     "metadata": {},
     "output_type": "display_data"
    }
   ],
   "source": [
    "#San Francisco\n",
    "markers = gmaps.marker_layer(df_stations.query('city==\"San Francisco\"')[['latitude','longitude']])\n",
    "#markers = gmaps.symbol_layer(df_stations[['latitude','longitude']], fill_color='blue', stroke_color='blue',scale=2)\n",
    "fig = gmaps.figure(center=(37.77498, -122.419234), zoom_level=13.3, layout={'width': '900px','height': '700px','padding': '3px','border': '1px solid black'})\n",
    "fig.add_layer(markers)\n",
    "fig"
   ]
  },
  {
   "cell_type": "code",
   "execution_count": 37,
   "metadata": {},
   "outputs": [
    {
     "data": {
      "application/vnd.jupyter.widget-view+json": {
       "model_id": "281d78b45d9941cdbbef3a6e90ea3470",
       "version_major": 2,
       "version_minor": 0
      },
      "text/plain": [
       "Figure(layout=FigureLayout(border='1px solid black', height='700px', padding='3px', width='900px'))"
      ]
     },
     "metadata": {},
     "output_type": "display_data"
    }
   ],
   "source": [
    "#Oakland\n",
    "markers = gmaps.marker_layer(df_stations.query('city == \"Oakland\"')[['latitude','longitude']])\n",
    "#markers = gmaps.symbol_layer(df_stations[['latitude','longitude']], fill_color='blue', stroke_color='blue',scale=2)\n",
    "fig = gmaps.figure(center=(37.82448, -122.271234), zoom_level=12.5, layout={'width': '900px','height': '700px','padding': '3px','border': '1px solid black'})\n",
    "fig.add_layer(markers)\n",
    "fig"
   ]
  },
  {
   "cell_type": "code",
   "execution_count": 38,
   "metadata": {},
   "outputs": [
    {
     "data": {
      "application/vnd.jupyter.widget-view+json": {
       "model_id": "f9c03196a01545639890c761cd17bd31",
       "version_major": 2,
       "version_minor": 0
      },
      "text/plain": [
       "Figure(layout=FigureLayout(border='1px solid black', height='700px', padding='3px', width='900px'))"
      ]
     },
     "metadata": {},
     "output_type": "display_data"
    }
   ],
   "source": [
    "# San Jose\n",
    "markers = gmaps.marker_layer(df_stations.query('city == \"San Jose\"')[['latitude','longitude']])\n",
    "#markers = gmaps.symbol_layer(df_stations[['latitude','longitude']], fill_color='blue', stroke_color='blue',scale=2)\n",
    "fig = gmaps.figure(center=(37.34058, -121.890234), zoom_level=13.3, layout={'width': '900px','height': '700px','padding': '3px','border': '1px solid black'})\n",
    "fig.add_layer(markers)\n",
    "fig"
   ]
  },
  {
   "cell_type": "code",
   "execution_count": 40,
   "metadata": {},
   "outputs": [
    {
     "data": {
      "text/html": [
       "<div>\n",
       "<style scoped>\n",
       "    .dataframe tbody tr th:only-of-type {\n",
       "        vertical-align: middle;\n",
       "    }\n",
       "\n",
       "    .dataframe tbody tr th {\n",
       "        vertical-align: top;\n",
       "    }\n",
       "\n",
       "    .dataframe thead th {\n",
       "        text-align: right;\n",
       "    }\n",
       "</style>\n",
       "<table border=\"1\" class=\"dataframe\">\n",
       "  <thead>\n",
       "    <tr style=\"text-align: right;\">\n",
       "      <th></th>\n",
       "      <th>city_x</th>\n",
       "      <th>city_y</th>\n",
       "      <th>start_station_id</th>\n",
       "      <th>end_station_id</th>\n",
       "      <th>count</th>\n",
       "    </tr>\n",
       "  </thead>\n",
       "  <tbody>\n",
       "    <tr>\n",
       "      <td>0</td>\n",
       "      <td>Oakland</td>\n",
       "      <td>San Francisco</td>\n",
       "      <td>7</td>\n",
       "      <td>12</td>\n",
       "      <td>1</td>\n",
       "    </tr>\n",
       "    <tr>\n",
       "      <td>1</td>\n",
       "      <td>Oakland</td>\n",
       "      <td>San Francisco</td>\n",
       "      <td>7</td>\n",
       "      <td>23</td>\n",
       "      <td>1</td>\n",
       "    </tr>\n",
       "    <tr>\n",
       "      <td>2</td>\n",
       "      <td>Oakland</td>\n",
       "      <td>San Francisco</td>\n",
       "      <td>153</td>\n",
       "      <td>22</td>\n",
       "      <td>1</td>\n",
       "    </tr>\n",
       "    <tr>\n",
       "      <td>3</td>\n",
       "      <td>Oakland</td>\n",
       "      <td>San Francisco</td>\n",
       "      <td>155</td>\n",
       "      <td>22</td>\n",
       "      <td>2</td>\n",
       "    </tr>\n",
       "    <tr>\n",
       "      <td>4</td>\n",
       "      <td>Oakland</td>\n",
       "      <td>San Francisco</td>\n",
       "      <td>160</td>\n",
       "      <td>113</td>\n",
       "      <td>1</td>\n",
       "    </tr>\n",
       "    <tr>\n",
       "      <td>...</td>\n",
       "      <td>...</td>\n",
       "      <td>...</td>\n",
       "      <td>...</td>\n",
       "      <td>...</td>\n",
       "      <td>...</td>\n",
       "    </tr>\n",
       "    <tr>\n",
       "      <td>57</td>\n",
       "      <td>San Francisco</td>\n",
       "      <td>Oakland</td>\n",
       "      <td>419</td>\n",
       "      <td>235</td>\n",
       "      <td>1</td>\n",
       "    </tr>\n",
       "    <tr>\n",
       "      <td>58</td>\n",
       "      <td>San Francisco</td>\n",
       "      <td>San Jose</td>\n",
       "      <td>21</td>\n",
       "      <td>300</td>\n",
       "      <td>1</td>\n",
       "    </tr>\n",
       "    <tr>\n",
       "      <td>59</td>\n",
       "      <td>San Francisco</td>\n",
       "      <td>San Jose</td>\n",
       "      <td>408</td>\n",
       "      <td>408</td>\n",
       "      <td>72</td>\n",
       "    </tr>\n",
       "    <tr>\n",
       "      <td>60</td>\n",
       "      <td>San Jose</td>\n",
       "      <td>San Francisco</td>\n",
       "      <td>305</td>\n",
       "      <td>72</td>\n",
       "      <td>1</td>\n",
       "    </tr>\n",
       "    <tr>\n",
       "      <td>61</td>\n",
       "      <td>San Jose</td>\n",
       "      <td>San Francisco</td>\n",
       "      <td>408</td>\n",
       "      <td>408</td>\n",
       "      <td>72</td>\n",
       "    </tr>\n",
       "  </tbody>\n",
       "</table>\n",
       "<p>62 rows × 5 columns</p>\n",
       "</div>"
      ],
      "text/plain": [
       "           city_x         city_y  start_station_id  end_station_id  count\n",
       "0         Oakland  San Francisco                 7              12      1\n",
       "1         Oakland  San Francisco                 7              23      1\n",
       "2         Oakland  San Francisco               153              22      1\n",
       "3         Oakland  San Francisco               155              22      2\n",
       "4         Oakland  San Francisco               160             113      1\n",
       "..            ...            ...               ...             ...    ...\n",
       "57  San Francisco        Oakland               419             235      1\n",
       "58  San Francisco       San Jose                21             300      1\n",
       "59  San Francisco       San Jose               408             408     72\n",
       "60       San Jose  San Francisco               305              72      1\n",
       "61       San Jose  San Francisco               408             408     72\n",
       "\n",
       "[62 rows x 5 columns]"
      ]
     },
     "execution_count": 40,
     "metadata": {},
     "output_type": "execute_result"
    }
   ],
   "source": [
    "city_trips = df_outOfCityTrips.groupby(['city_x', 'city_y','start_station_id', 'end_station_id']).size().reset_index()\n",
    "city_trips.columns = ['city_x', 'city_y','start_station_id', 'end_station_id', 'count']\n",
    "city_trips"
   ]
  },
  {
   "cell_type": "code",
   "execution_count": 47,
   "metadata": {},
   "outputs": [],
   "source": [
    "# Most frequent routes\n",
    "# Most frequent routes\n",
    "plt.figure(figsize=[15,15])\n",
    "plt.xticks(np.arange(0,500,20))\n",
    "plt.yticks(np.arange(0,500,20))\n",
    "bins = np.arange(0,500,20)\n",
    "plt.hist2d(data=df_trips, x= 'start_station_id', y='end_station_id',bins=bins);\n",
    "plt.colorbar()"
   ]
  },
  {
   "cell_type": "code",
   "execution_count": 153,
   "metadata": {},
   "outputs": [
    {
     "data": {
      "image/png": "[encoded data removed]",
      "text/plain": [
       "<Figure size 1080x1080 with 2 Axes>"
      ]
     },
     "metadata": {
      "needs_background": "light"
     },
     "output_type": "display_data"
    }
   ],
   "source": [
    "data = df_trips[['user_type','start_time']]\n",
    "data.loc[:,'hour'] = data['start_time'].dt.hour\n",
    "\n",
    "plt.figure(figsize=[15,15])\n",
    "\n",
    "plt.subplot(2,1,1)\n",
    "sb.countplot(data=data, x='hour', hue = 'user_type');\n",
    "\n",
    "plt.subplot(2,1,2)\n",
    "data.loc[:,'weekday'] = data['start_time'].dt.dayofweek\n",
    "sb.countplot(data=data, x='weekday', hue = 'user_type');"
   ]
  },
  {
   "cell_type": "code",
   "execution_count": 155,
   "metadata": {},
   "outputs": [
    {
     "data": {
      "text/plain": [
       "weekday\n",
       "0    378949\n",
       "1    408954\n",
       "2    399906\n",
       "3    410496\n",
       "4    381050\n",
       "5    218906\n",
       "6    198178\n",
       "dtype: int64"
      ]
     },
     "execution_count": 155,
     "metadata": {},
     "output_type": "execute_result"
    }
   ],
   "source": [
    "data.groupby('weekday').size()"
   ]
  },
  {
   "cell_type": "markdown",
   "metadata": {},
   "source": [
    "### Talk about some of the relationships you observed in this part of the investigation. How did the feature(s) of interest vary with other features in the dataset?\n",
    "\n",
    "> Your answer here!\n",
    "\n",
    "### Did you observe any interesting relationships between the other features (not the main feature(s) of interest)?\n",
    "\n",
    "> Your answer here!"
   ]
  },
  {
   "cell_type": "markdown",
   "metadata": {},
   "source": [
    "## Multivariate Exploration\n",
    "\n",
    "> Create plots of three or more variables to investigate your data even\n",
    "further. Make sure that your investigations are justified, and follow from\n",
    "your work in the previous sections."
   ]
  },
  {
   "cell_type": "code",
   "execution_count": 277,
   "metadata": {},
   "outputs": [
    {
     "data": {
      "text/plain": [
       "([<matplotlib.axis.YTick at 0x20620f00188>,\n",
       "  <matplotlib.axis.YTick at 0x206457ee448>,\n",
       "  <matplotlib.axis.YTick at 0x2061f3f50c8>,\n",
       "  <matplotlib.axis.YTick at 0x20645b74f08>,\n",
       "  <matplotlib.axis.YTick at 0x2061f59b088>,\n",
       "  <matplotlib.axis.YTick at 0x2061fc5d688>,\n",
       "  <matplotlib.axis.YTick at 0x2062f39d0c8>,\n",
       "  <matplotlib.axis.YTick at 0x2064560b548>,\n",
       "  <matplotlib.axis.YTick at 0x2061f985dc8>,\n",
       "  <matplotlib.axis.YTick at 0x20620c42048>,\n",
       "  <matplotlib.axis.YTick at 0x2065152bb88>,\n",
       "  <matplotlib.axis.YTick at 0x2061f7b0b08>,\n",
       "  <matplotlib.axis.YTick at 0x20651532b88>,\n",
       "  <matplotlib.axis.YTick at 0x2064560b648>,\n",
       "  <matplotlib.axis.YTick at 0x2061ec83e48>,\n",
       "  <matplotlib.axis.YTick at 0x2061f7b0b88>,\n",
       "  <matplotlib.axis.YTick at 0x2061c0d2848>,\n",
       "  <matplotlib.axis.YTick at 0x2061c0d2708>,\n",
       "  <matplotlib.axis.YTick at 0x2062f34c148>],\n",
       " <a list of 0 Text yticklabel objects>)"
      ]
     },
     "execution_count": 277,
     "metadata": {},
     "output_type": "execute_result"
    },
    {
     "data": {
      "text/plain": [
       "<Figure size 1080x1080 with 0 Axes>"
      ]
     },
     "metadata": {},
     "output_type": "display_data"
    },
    {
     "data": {
      "image/png": "[encoded data removed]",
      "text/plain": [
       "<Figure size 576x288 with 2 Axes>"
      ]
     },
     "metadata": {
      "needs_background": "light"
     },
     "output_type": "display_data"
    },
    {
     "data": {
      "image/png": "[encoded data removed]",
      "text/plain": [
       "<Figure size 576x288 with 2 Axes>"
      ]
     },
     "metadata": {
      "needs_background": "light"
     },
     "output_type": "display_data"
    }
   ],
   "source": [
    "plt.figure(figsize=[15,15])\n",
    "\n",
    "data = df.query('duration_sec <= 1800')\n",
    "g = sb.FacetGrid(data = data, col ='user_type', height = 4)\n",
    "g.map(sb.boxplot,'city_x', 'duration_sec',order=[\"San Francisco\",\"Oakland\",\"San Jose\"] );\n",
    "plt.yticks(np.arange(0,1801,300), np.arange(0,31,5))\n",
    "\n",
    "data = df.query('duration_sec > 1800')\n",
    "g = sb.FacetGrid(data = data, col ='user_type', height = 4)\n",
    "g.map(sb.boxplot,'city_x', 'duration_sec',order=[\"San Francisco\",\"Oakland\",\"San Jose\"] );\n",
    "plt.yticks(np.arange(1800,2*3600+1,300), np.arange(30,121,5))"
   ]
  },
  {
   "cell_type": "markdown",
   "metadata": {},
   "source": [
    "### Talk about some of the relationships you observed in this part of the investigation. Were there features that strengthened each other in terms of looking at your feature(s) of interest?\n",
    "\n",
    "> Your answer here!\n",
    "\n",
    "### Were there any interesting or surprising interactions between features?\n",
    "\n",
    "> Your answer here!"
   ]
  },
  {
   "cell_type": "markdown",
   "metadata": {},
   "source": [
    "> At the end of your report, make sure that you export the notebook as an\n",
    "html file from the `File > Download as... > HTML` menu. Make sure you keep\n",
    "track of where the exported file goes, so you can put it in the same folder\n",
    "as this notebook for project submission. Also, make sure you remove all of\n",
    "the quote-formatted guide notes like this one before you finish your report!"
   ]
  },
  {
   "cell_type": "code",
   "execution_count": null,
   "metadata": {},
   "outputs": [],
   "source": []
  }
 ],
 "metadata": {
  "kernelspec": {
   "display_name": "Python 3",
   "language": "python",
   "name": "python3"
  }
 },
 "nbformat": 4,
 "nbformat_minor": 2
}
